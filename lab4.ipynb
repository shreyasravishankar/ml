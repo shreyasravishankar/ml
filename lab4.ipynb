{
 "cells": [
  {
   "cell_type": "code",
   "execution_count": 26,
   "id": "33e7ba4b",
   "metadata": {},
   "outputs": [],
   "source": [
    "import numpy as np\n",
    "import matplotlib.pyplot as plt\n",
    "import pandas as pd\n",
    "import collections\n",
    "from nltk.tokenize import word_tokenize\n",
    "from nltk.stem import PorterStemmer\n",
    "from wordcloud import WordCloud\n",
    "from nltk.corpus import stopwords\n",
    "%matplotlib inline"
   ]
  },
  {
   "cell_type": "code",
   "execution_count": 6,
   "id": "dd780256",
   "metadata": {},
   "outputs": [],
   "source": [
    "mails = pd.read_csv('spam.csv', encoding = 'latin-1')"
   ]
  },
  {
   "cell_type": "code",
   "execution_count": 7,
   "id": "b4cea03e",
   "metadata": {},
   "outputs": [
    {
     "data": {
      "text/html": [
       "<div>\n",
       "<style scoped>\n",
       "    .dataframe tbody tr th:only-of-type {\n",
       "        vertical-align: middle;\n",
       "    }\n",
       "\n",
       "    .dataframe tbody tr th {\n",
       "        vertical-align: top;\n",
       "    }\n",
       "\n",
       "    .dataframe thead th {\n",
       "        text-align: right;\n",
       "    }\n",
       "</style>\n",
       "<table border=\"1\" class=\"dataframe\">\n",
       "  <thead>\n",
       "    <tr style=\"text-align: right;\">\n",
       "      <th></th>\n",
       "      <th>v1</th>\n",
       "      <th>v2</th>\n",
       "      <th>Unnamed: 2</th>\n",
       "      <th>Unnamed: 3</th>\n",
       "      <th>Unnamed: 4</th>\n",
       "    </tr>\n",
       "  </thead>\n",
       "  <tbody>\n",
       "    <tr>\n",
       "      <th>0</th>\n",
       "      <td>ham</td>\n",
       "      <td>Go until jurong point, crazy.. Available only ...</td>\n",
       "      <td>NaN</td>\n",
       "      <td>NaN</td>\n",
       "      <td>NaN</td>\n",
       "    </tr>\n",
       "    <tr>\n",
       "      <th>1</th>\n",
       "      <td>ham</td>\n",
       "      <td>Ok lar... Joking wif u oni...</td>\n",
       "      <td>NaN</td>\n",
       "      <td>NaN</td>\n",
       "      <td>NaN</td>\n",
       "    </tr>\n",
       "    <tr>\n",
       "      <th>2</th>\n",
       "      <td>spam</td>\n",
       "      <td>Free entry in 2 a wkly comp to win FA Cup fina...</td>\n",
       "      <td>NaN</td>\n",
       "      <td>NaN</td>\n",
       "      <td>NaN</td>\n",
       "    </tr>\n",
       "    <tr>\n",
       "      <th>3</th>\n",
       "      <td>ham</td>\n",
       "      <td>U dun say so early hor... U c already then say...</td>\n",
       "      <td>NaN</td>\n",
       "      <td>NaN</td>\n",
       "      <td>NaN</td>\n",
       "    </tr>\n",
       "    <tr>\n",
       "      <th>4</th>\n",
       "      <td>ham</td>\n",
       "      <td>Nah I don't think he goes to usf, he lives aro...</td>\n",
       "      <td>NaN</td>\n",
       "      <td>NaN</td>\n",
       "      <td>NaN</td>\n",
       "    </tr>\n",
       "  </tbody>\n",
       "</table>\n",
       "</div>"
      ],
      "text/plain": [
       "     v1                                                 v2 Unnamed: 2  \\\n",
       "0   ham  Go until jurong point, crazy.. Available only ...        NaN   \n",
       "1   ham                      Ok lar... Joking wif u oni...        NaN   \n",
       "2  spam  Free entry in 2 a wkly comp to win FA Cup fina...        NaN   \n",
       "3   ham  U dun say so early hor... U c already then say...        NaN   \n",
       "4   ham  Nah I don't think he goes to usf, he lives aro...        NaN   \n",
       "\n",
       "  Unnamed: 3 Unnamed: 4  \n",
       "0        NaN        NaN  \n",
       "1        NaN        NaN  \n",
       "2        NaN        NaN  \n",
       "3        NaN        NaN  \n",
       "4        NaN        NaN  "
      ]
     },
     "execution_count": 7,
     "metadata": {},
     "output_type": "execute_result"
    }
   ],
   "source": [
    "mails.head()"
   ]
  },
  {
   "cell_type": "code",
   "execution_count": 8,
   "id": "ff235559",
   "metadata": {},
   "outputs": [
    {
     "data": {
      "text/plain": [
       "(5572, 5)"
      ]
     },
     "execution_count": 8,
     "metadata": {},
     "output_type": "execute_result"
    }
   ],
   "source": [
    "mails.shape"
   ]
  },
  {
   "cell_type": "code",
   "execution_count": 9,
   "id": "676bc1c4",
   "metadata": {},
   "outputs": [],
   "source": [
    "mails.drop(['Unnamed: 2', 'Unnamed: 3', 'Unnamed: 4'], axis = 1, inplace = True)"
   ]
  },
  {
   "cell_type": "code",
   "execution_count": 10,
   "id": "f05d2992",
   "metadata": {},
   "outputs": [
    {
     "data": {
      "text/html": [
       "<div>\n",
       "<style scoped>\n",
       "    .dataframe tbody tr th:only-of-type {\n",
       "        vertical-align: middle;\n",
       "    }\n",
       "\n",
       "    .dataframe tbody tr th {\n",
       "        vertical-align: top;\n",
       "    }\n",
       "\n",
       "    .dataframe thead th {\n",
       "        text-align: right;\n",
       "    }\n",
       "</style>\n",
       "<table border=\"1\" class=\"dataframe\">\n",
       "  <thead>\n",
       "    <tr style=\"text-align: right;\">\n",
       "      <th></th>\n",
       "      <th>v1</th>\n",
       "      <th>v2</th>\n",
       "    </tr>\n",
       "  </thead>\n",
       "  <tbody>\n",
       "    <tr>\n",
       "      <th>0</th>\n",
       "      <td>ham</td>\n",
       "      <td>Go until jurong point, crazy.. Available only ...</td>\n",
       "    </tr>\n",
       "  </tbody>\n",
       "</table>\n",
       "</div>"
      ],
      "text/plain": [
       "    v1                                                 v2\n",
       "0  ham  Go until jurong point, crazy.. Available only ..."
      ]
     },
     "execution_count": 10,
     "metadata": {},
     "output_type": "execute_result"
    }
   ],
   "source": [
    "mails.head(1)"
   ]
  },
  {
   "cell_type": "code",
   "execution_count": 11,
   "id": "751b3c1e",
   "metadata": {},
   "outputs": [
    {
     "data": {
      "text/html": [
       "<div>\n",
       "<style scoped>\n",
       "    .dataframe tbody tr th:only-of-type {\n",
       "        vertical-align: middle;\n",
       "    }\n",
       "\n",
       "    .dataframe tbody tr th {\n",
       "        vertical-align: top;\n",
       "    }\n",
       "\n",
       "    .dataframe thead th {\n",
       "        text-align: right;\n",
       "    }\n",
       "</style>\n",
       "<table border=\"1\" class=\"dataframe\">\n",
       "  <thead>\n",
       "    <tr style=\"text-align: right;\">\n",
       "      <th></th>\n",
       "      <th>spam</th>\n",
       "      <th>message</th>\n",
       "    </tr>\n",
       "  </thead>\n",
       "  <tbody>\n",
       "    <tr>\n",
       "      <th>0</th>\n",
       "      <td>ham</td>\n",
       "      <td>Go until jurong point, crazy.. Available only ...</td>\n",
       "    </tr>\n",
       "  </tbody>\n",
       "</table>\n",
       "</div>"
      ],
      "text/plain": [
       "  spam                                            message\n",
       "0  ham  Go until jurong point, crazy.. Available only ..."
      ]
     },
     "execution_count": 11,
     "metadata": {},
     "output_type": "execute_result"
    }
   ],
   "source": [
    "mails.rename(columns = {'v1': 'spam', 'v2': 'message'}, inplace = True)\n",
    "mails.head(1)"
   ]
  },
  {
   "cell_type": "code",
   "execution_count": 12,
   "id": "fa41be0d",
   "metadata": {},
   "outputs": [
    {
     "data": {
      "text/html": [
       "<div>\n",
       "<style scoped>\n",
       "    .dataframe tbody tr th:only-of-type {\n",
       "        vertical-align: middle;\n",
       "    }\n",
       "\n",
       "    .dataframe tbody tr th {\n",
       "        vertical-align: top;\n",
       "    }\n",
       "\n",
       "    .dataframe thead th {\n",
       "        text-align: right;\n",
       "    }\n",
       "</style>\n",
       "<table border=\"1\" class=\"dataframe\">\n",
       "  <thead>\n",
       "    <tr style=\"text-align: right;\">\n",
       "      <th></th>\n",
       "      <th>spam</th>\n",
       "      <th>message</th>\n",
       "    </tr>\n",
       "  </thead>\n",
       "  <tbody>\n",
       "    <tr>\n",
       "      <th>0</th>\n",
       "      <td>False</td>\n",
       "      <td>Go until jurong point, crazy.. Available only ...</td>\n",
       "    </tr>\n",
       "    <tr>\n",
       "      <th>1</th>\n",
       "      <td>False</td>\n",
       "      <td>Ok lar... Joking wif u oni...</td>\n",
       "    </tr>\n",
       "    <tr>\n",
       "      <th>2</th>\n",
       "      <td>True</td>\n",
       "      <td>Free entry in 2 a wkly comp to win FA Cup fina...</td>\n",
       "    </tr>\n",
       "    <tr>\n",
       "      <th>3</th>\n",
       "      <td>False</td>\n",
       "      <td>U dun say so early hor... U c already then say...</td>\n",
       "    </tr>\n",
       "    <tr>\n",
       "      <th>4</th>\n",
       "      <td>False</td>\n",
       "      <td>Nah I don't think he goes to usf, he lives aro...</td>\n",
       "    </tr>\n",
       "  </tbody>\n",
       "</table>\n",
       "</div>"
      ],
      "text/plain": [
       "    spam                                            message\n",
       "0  False  Go until jurong point, crazy.. Available only ...\n",
       "1  False                      Ok lar... Joking wif u oni...\n",
       "2   True  Free entry in 2 a wkly comp to win FA Cup fina...\n",
       "3  False  U dun say so early hor... U c already then say...\n",
       "4  False  Nah I don't think he goes to usf, he lives aro..."
      ]
     },
     "execution_count": 12,
     "metadata": {},
     "output_type": "execute_result"
    }
   ],
   "source": [
    "mails['spam'] = mails['spam'].map({'ham': False, 'spam': True})\n",
    "mails.head()"
   ]
  },
  {
   "cell_type": "code",
   "execution_count": 13,
   "id": "1eb5a972",
   "metadata": {},
   "outputs": [
    {
     "data": {
      "text/plain": [
       "False    4825\n",
       "True      747\n",
       "Name: spam, dtype: int64"
      ]
     },
     "execution_count": 13,
     "metadata": {},
     "output_type": "execute_result"
    }
   ],
   "source": [
    "mails['spam'].value_counts()"
   ]
  },
  {
   "cell_type": "code",
   "execution_count": 14,
   "id": "195aa6dc",
   "metadata": {},
   "outputs": [
    {
     "data": {
      "text/plain": [
       "False    3382\n",
       "True      519\n",
       "Name: spam, dtype: int64"
      ]
     },
     "execution_count": 14,
     "metadata": {},
     "output_type": "execute_result"
    }
   ],
   "source": [
    "all_mails_count = mails['spam'].count()\n",
    "train_data = mails.loc[:all_mails_count*0.70]\n",
    "train_data['spam'].value_counts()"
   ]
  },
  {
   "cell_type": "code",
   "execution_count": 15,
   "id": "abae0627",
   "metadata": {},
   "outputs": [
    {
     "data": {
      "text/html": [
       "<div>\n",
       "<style scoped>\n",
       "    .dataframe tbody tr th:only-of-type {\n",
       "        vertical-align: middle;\n",
       "    }\n",
       "\n",
       "    .dataframe tbody tr th {\n",
       "        vertical-align: top;\n",
       "    }\n",
       "\n",
       "    .dataframe thead th {\n",
       "        text-align: right;\n",
       "    }\n",
       "</style>\n",
       "<table border=\"1\" class=\"dataframe\">\n",
       "  <thead>\n",
       "    <tr style=\"text-align: right;\">\n",
       "      <th></th>\n",
       "      <th>spam</th>\n",
       "      <th>message</th>\n",
       "    </tr>\n",
       "  </thead>\n",
       "  <tbody>\n",
       "    <tr>\n",
       "      <th>0</th>\n",
       "      <td>False</td>\n",
       "      <td>Go until jurong point, crazy.. Available only ...</td>\n",
       "    </tr>\n",
       "    <tr>\n",
       "      <th>1</th>\n",
       "      <td>False</td>\n",
       "      <td>Ok lar... Joking wif u oni...</td>\n",
       "    </tr>\n",
       "    <tr>\n",
       "      <th>2</th>\n",
       "      <td>True</td>\n",
       "      <td>Free entry in 2 a wkly comp to win FA Cup fina...</td>\n",
       "    </tr>\n",
       "    <tr>\n",
       "      <th>3</th>\n",
       "      <td>False</td>\n",
       "      <td>U dun say so early hor... U c already then say...</td>\n",
       "    </tr>\n",
       "    <tr>\n",
       "      <th>4</th>\n",
       "      <td>False</td>\n",
       "      <td>Nah I don't think he goes to usf, he lives aro...</td>\n",
       "    </tr>\n",
       "    <tr>\n",
       "      <th>...</th>\n",
       "      <td>...</td>\n",
       "      <td>...</td>\n",
       "    </tr>\n",
       "    <tr>\n",
       "      <th>3896</th>\n",
       "      <td>False</td>\n",
       "      <td>No. Thank you. You've been wonderful</td>\n",
       "    </tr>\n",
       "    <tr>\n",
       "      <th>3897</th>\n",
       "      <td>False</td>\n",
       "      <td>Otherwise had part time job na-tuition..</td>\n",
       "    </tr>\n",
       "    <tr>\n",
       "      <th>3898</th>\n",
       "      <td>False</td>\n",
       "      <td>ÌÏ mean it's confirmed... I tot they juz say o...</td>\n",
       "    </tr>\n",
       "    <tr>\n",
       "      <th>3899</th>\n",
       "      <td>False</td>\n",
       "      <td>Okie</td>\n",
       "    </tr>\n",
       "    <tr>\n",
       "      <th>3900</th>\n",
       "      <td>False</td>\n",
       "      <td>That depends. How would you like to be treated...</td>\n",
       "    </tr>\n",
       "  </tbody>\n",
       "</table>\n",
       "<p>3901 rows × 2 columns</p>\n",
       "</div>"
      ],
      "text/plain": [
       "       spam                                            message\n",
       "0     False  Go until jurong point, crazy.. Available only ...\n",
       "1     False                      Ok lar... Joking wif u oni...\n",
       "2      True  Free entry in 2 a wkly comp to win FA Cup fina...\n",
       "3     False  U dun say so early hor... U c already then say...\n",
       "4     False  Nah I don't think he goes to usf, he lives aro...\n",
       "...     ...                                                ...\n",
       "3896  False               No. Thank you. You've been wonderful\n",
       "3897  False           Otherwise had part time job na-tuition..\n",
       "3898  False  ÌÏ mean it's confirmed... I tot they juz say o...\n",
       "3899  False                                               Okie\n",
       "3900  False  That depends. How would you like to be treated...\n",
       "\n",
       "[3901 rows x 2 columns]"
      ]
     },
     "metadata": {},
     "output_type": "display_data"
    }
   ],
   "source": [
    "display(train_data)"
   ]
  },
  {
   "cell_type": "code",
   "execution_count": 16,
   "id": "5dd2639d",
   "metadata": {},
   "outputs": [
    {
     "data": {
      "text/plain": [
       "False    1442\n",
       "True      228\n",
       "Name: spam, dtype: int64"
      ]
     },
     "execution_count": 16,
     "metadata": {},
     "output_type": "execute_result"
    }
   ],
   "source": [
    "test_data = mails.loc[all_mails_count*0.70 + 1:]\n",
    "test_data.reset_index(inplace = True)\n",
    "test_data['spam'].value_counts()"
   ]
  },
  {
   "cell_type": "code",
   "execution_count": 17,
   "id": "7f70dcf7",
   "metadata": {},
   "outputs": [
    {
     "data": {
      "text/html": [
       "<div>\n",
       "<style scoped>\n",
       "    .dataframe tbody tr th:only-of-type {\n",
       "        vertical-align: middle;\n",
       "    }\n",
       "\n",
       "    .dataframe tbody tr th {\n",
       "        vertical-align: top;\n",
       "    }\n",
       "\n",
       "    .dataframe thead th {\n",
       "        text-align: right;\n",
       "    }\n",
       "</style>\n",
       "<table border=\"1\" class=\"dataframe\">\n",
       "  <thead>\n",
       "    <tr style=\"text-align: right;\">\n",
       "      <th></th>\n",
       "      <th>index</th>\n",
       "      <th>spam</th>\n",
       "      <th>message</th>\n",
       "    </tr>\n",
       "  </thead>\n",
       "  <tbody>\n",
       "    <tr>\n",
       "      <th>0</th>\n",
       "      <td>3902</td>\n",
       "      <td>False</td>\n",
       "      <td>Waiting in e car 4 my mum lor. U leh? Reach ho...</td>\n",
       "    </tr>\n",
       "    <tr>\n",
       "      <th>1</th>\n",
       "      <td>3903</td>\n",
       "      <td>True</td>\n",
       "      <td>Your 2004 account for 07XXXXXXXXX shows 786 un...</td>\n",
       "    </tr>\n",
       "    <tr>\n",
       "      <th>2</th>\n",
       "      <td>3904</td>\n",
       "      <td>True</td>\n",
       "      <td>Do you want a new video handset? 750 anytime a...</td>\n",
       "    </tr>\n",
       "    <tr>\n",
       "      <th>3</th>\n",
       "      <td>3905</td>\n",
       "      <td>False</td>\n",
       "      <td>Went fast asleep dear.take care.</td>\n",
       "    </tr>\n",
       "    <tr>\n",
       "      <th>4</th>\n",
       "      <td>3906</td>\n",
       "      <td>False</td>\n",
       "      <td>No that just means you have a fat head</td>\n",
       "    </tr>\n",
       "    <tr>\n",
       "      <th>...</th>\n",
       "      <td>...</td>\n",
       "      <td>...</td>\n",
       "      <td>...</td>\n",
       "    </tr>\n",
       "    <tr>\n",
       "      <th>1665</th>\n",
       "      <td>5567</td>\n",
       "      <td>True</td>\n",
       "      <td>This is the 2nd time we have tried 2 contact u...</td>\n",
       "    </tr>\n",
       "    <tr>\n",
       "      <th>1666</th>\n",
       "      <td>5568</td>\n",
       "      <td>False</td>\n",
       "      <td>Will Ì_ b going to esplanade fr home?</td>\n",
       "    </tr>\n",
       "    <tr>\n",
       "      <th>1667</th>\n",
       "      <td>5569</td>\n",
       "      <td>False</td>\n",
       "      <td>Pity, * was in mood for that. So...any other s...</td>\n",
       "    </tr>\n",
       "    <tr>\n",
       "      <th>1668</th>\n",
       "      <td>5570</td>\n",
       "      <td>False</td>\n",
       "      <td>The guy did some bitching but I acted like i'd...</td>\n",
       "    </tr>\n",
       "    <tr>\n",
       "      <th>1669</th>\n",
       "      <td>5571</td>\n",
       "      <td>False</td>\n",
       "      <td>Rofl. Its true to its name</td>\n",
       "    </tr>\n",
       "  </tbody>\n",
       "</table>\n",
       "<p>1670 rows × 3 columns</p>\n",
       "</div>"
      ],
      "text/plain": [
       "      index   spam                                            message\n",
       "0      3902  False  Waiting in e car 4 my mum lor. U leh? Reach ho...\n",
       "1      3903   True  Your 2004 account for 07XXXXXXXXX shows 786 un...\n",
       "2      3904   True  Do you want a new video handset? 750 anytime a...\n",
       "3      3905  False                   Went fast asleep dear.take care.\n",
       "4      3906  False             No that just means you have a fat head\n",
       "...     ...    ...                                                ...\n",
       "1665   5567   True  This is the 2nd time we have tried 2 contact u...\n",
       "1666   5568  False              Will Ì_ b going to esplanade fr home?\n",
       "1667   5569  False  Pity, * was in mood for that. So...any other s...\n",
       "1668   5570  False  The guy did some bitching but I acted like i'd...\n",
       "1669   5571  False                         Rofl. Its true to its name\n",
       "\n",
       "[1670 rows x 3 columns]"
      ]
     },
     "metadata": {},
     "output_type": "display_data"
    }
   ],
   "source": [
    "display(test_data)"
   ]
  },
  {
   "cell_type": "code",
   "execution_count": 19,
   "id": "660e42eb",
   "metadata": {},
   "outputs": [],
   "source": [
    "def count_words(data):\n",
    "    counter = collections.OrderedDict()\n",
    "    for message in data:\n",
    "        for word in message.split(' '):\n",
    "            if word in counter:\n",
    "                counter[word] += 1\n",
    "            else:\n",
    "                counter[word] = 1\n",
    "    return counter"
   ]
  },
  {
   "cell_type": "code",
   "execution_count": 20,
   "id": "753415cb",
   "metadata": {},
   "outputs": [],
   "source": [
    "spam_messages = set(train_data[train_data['spam'] == True]['message'])\n",
    "spam_words = count_words(spam_messages)\n",
    "ham_messages = set(train_data[train_data['spam'] == False]['message'])\n",
    "ham_words = count_words(ham_messages)"
   ]
  },
  {
   "cell_type": "code",
   "execution_count": 43,
   "id": "876a04f4",
   "metadata": {},
   "outputs": [],
   "source": [
    "words = open('words.txt').read().split(' ')\n",
    "wordlist = set(words)"
   ]
  },
  {
   "cell_type": "code",
   "execution_count": 44,
   "id": "6b50dd74",
   "metadata": {},
   "outputs": [
    {
     "name": "stderr",
     "output_type": "stream",
     "text": [
      "[nltk_data] Downloading package stopwords to\n",
      "[nltk_data]     C:\\Users\\shrey\\AppData\\Roaming\\nltk_data...\n",
      "[nltk_data]   Package stopwords is already up-to-date!\n",
      "[nltk_data] Downloading package punkt to\n",
      "[nltk_data]     C:\\Users\\shrey\\AppData\\Roaming\\nltk_data...\n",
      "[nltk_data]   Package punkt is already up-to-date!\n"
     ]
    }
   ],
   "source": [
    "import nltk\n",
    "nltk.download('stopwords')\n",
    "nltk.download('punkt')\n",
    "stop_words = stopwords.words('english')"
   ]
  },
  {
   "cell_type": "code",
   "execution_count": 45,
   "id": "51308e51",
   "metadata": {},
   "outputs": [],
   "source": [
    "def process_message(message):  \n",
    "    words = message.lower() # lowercase\n",
    "    words = word_tokenize(words) # tokenization\n",
    "    words = [word for word in words if len(word) > 1] # non absurd words          \n",
    "    words = [word for word in words if word not in stop_words] # non stop words\n",
    "    words = [word for word in words if word in wordlist] # english words\n",
    "    words = [PorterStemmer().stem(word) for word in words] # stemming\n",
    "    return words"
   ]
  },
  {
   "cell_type": "code",
   "execution_count": 46,
   "id": "edbc14cd",
   "metadata": {},
   "outputs": [],
   "source": [
    "def count_processed_words(data):\n",
    "    counter = collections.OrderedDict()\n",
    "    for message in data:\n",
    "        words = process_message(message)\n",
    "        for word in set(words):           \n",
    "            if word in counter:\n",
    "                counter[word] += 1\n",
    "            else:\n",
    "                counter[word] = 1\n",
    "    return counter"
   ]
  },
  {
   "cell_type": "code",
   "execution_count": 48,
   "id": "ab1dc82d",
   "metadata": {},
   "outputs": [],
   "source": [
    "spam_words = count_processed_words(spam_messages)\n",
    "ham_words = count_processed_words(ham_messages)"
   ]
  },
  {
   "cell_type": "code",
   "execution_count": 49,
   "id": "1ed3465d",
   "metadata": {},
   "outputs": [],
   "source": [
    "spam_messages = [i for i in spam_messages if len(process_message(i)) >= 1]\n",
    "ham_messages = [i for i in ham_messages if len(process_message(i)) >= 1]"
   ]
  },
  {
   "cell_type": "code",
   "execution_count": 50,
   "id": "3e83f3ec",
   "metadata": {},
   "outputs": [],
   "source": [
    "all_messages = spam_messages + ham_messages\n",
    "all_words = count_processed_words(all_messages)"
   ]
  },
  {
   "cell_type": "code",
   "execution_count": 51,
   "id": "3904cb20",
   "metadata": {},
   "outputs": [],
   "source": [
    "def spam(message, s=1, p=0.5, percentage=False):\n",
    "    n = 0\n",
    "    spam_freq = 0\n",
    "    ham_freq = 0\n",
    "    for word in process_message(message):\n",
    "        if word in spam_words.keys(): \n",
    "            spam_freq = (spam_words[word] / all_words[word])\n",
    "        if word in ham_words.keys():\n",
    "            ham_freq = (ham_words[word] / all_words[word])\n",
    "        if not (spam_freq + ham_freq) == 0 and word in all_words.keys(): \n",
    "            spaminess_of_word = (spam_freq ) / (spam_freq  + ham_freq )\n",
    "            corr_spaminess = (s * p + all_words[word] * spaminess_of_word) / (s + all_words[word])            \n",
    "            n += np.log(1 - corr_spaminess) - np.log(corr_spaminess)\n",
    "    spam_result = 1 / (1 + np.e**n)\n",
    "    if percentage:\n",
    "        print(f'Spam probability: {spam_result*100:.2f}%')\n",
    "    elif spam_result > 0.5:    \n",
    "        return True\n",
    "    else:\n",
    "        return False"
   ]
  },
  {
   "cell_type": "code",
   "execution_count": 52,
   "id": "bc40149e",
   "metadata": {},
   "outputs": [],
   "source": [
    "def test(spam_test, ham_test, s=1, p=0.5, details=False):\n",
    "    spam_count = 0\n",
    "    ham_count = 0\n",
    "    for message in spam_test:\n",
    "        if spam(message, s, p):\n",
    "            spam_count += 1\n",
    "        else:\n",
    "            ham_count += 1\n",
    "\n",
    "    true_positive = spam_count\n",
    "    false_negative = ham_count\n",
    "\n",
    "    spam_count = 0\n",
    "    ham_count = 0\n",
    "    for message in ham_test:\n",
    "        if spam(message, s, p):\n",
    "            spam_count += 1\n",
    "        else:\n",
    "            ham_count += 1\n",
    "    \n",
    "    false_positive = spam_count\n",
    "    true_negative = ham_count\n",
    "\n",
    "    # How many selected messages are spam?\n",
    "    spam_precision = true_positive / (true_positive + false_positive)\n",
    "    \n",
    "    # How many spam messages are selected?\n",
    "    spam_recall = true_positive / (true_positive + false_negative)\n",
    "    \n",
    "    # Harmonic mean between precision and recall.\n",
    "    spam_fscore = 2 * (spam_precision * spam_recall) / (spam_precision + spam_recall) \n",
    "\n",
    "    # How many selected messages are ham?\n",
    "    ham_precision = true_negative / (true_negative + false_negative)\n",
    "    \n",
    "    # How many ham messages are selected?\n",
    "    ham_recall = true_negative / (true_negative + false_positive)\n",
    "    \n",
    "    # Harmonic mean between precision and recall.\n",
    "    ham_fscore = 2 * (ham_precision * ham_recall) / (ham_precision + ham_recall)\n",
    "    \n",
    "    # If the data was ballanced.\n",
    "    # accuracy = (true_positive + true_negative) / (true_positive + true_negative + false_positive + false_negative)\n",
    "    \n",
    "    # For unballanced data.\n",
    "    ballanced_accuracy = ( spam_recall + ham_recall ) / 2\n",
    "\n",
    "    if details:\n",
    "        print(\"True Positive: \", true_positive)\n",
    "        print(\"False Negative:\", false_negative)\n",
    "        print(\"True Negative: \", true_negative)\n",
    "        print(f\"False  Positive: {false_positive}\\n\")\n",
    "        \n",
    "        print(f\"Spam precision: {spam_precision*100:.2f}%\")\n",
    "        print(f\"Spam recall: {spam_recall*100:.2f}%\")\n",
    "        print(f\"Spam F-score: {spam_fscore*100:.2f}%\\n\")\n",
    "        \n",
    "        print(f\"Ham precision: {ham_precision*100:.2f}%\")\n",
    "        print(f\"Ham recall: {ham_recall*100:.2f}%\")\n",
    "        print(f\"Ham F-score: {ham_fscore*100:.2f}%\\n\")\n",
    "        \n",
    "    print(f\"Accuracy: {ballanced_accuracy*100:.2f}%\\n\")"
   ]
  },
  {
   "cell_type": "code",
   "execution_count": null,
   "id": "4948d818",
   "metadata": {},
   "outputs": [],
   "source": []
  }
 ],
 "metadata": {
  "kernelspec": {
   "display_name": "Python 3 (ipykernel)",
   "language": "python",
   "name": "python3"
  },
  "language_info": {
   "codemirror_mode": {
    "name": "ipython",
    "version": 3
   },
   "file_extension": ".py",
   "mimetype": "text/x-python",
   "name": "python",
   "nbconvert_exporter": "python",
   "pygments_lexer": "ipython3",
   "version": "3.9.12"
  }
 },
 "nbformat": 4,
 "nbformat_minor": 5
}
