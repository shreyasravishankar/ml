{
 "cells": [
  {
   "cell_type": "code",
   "execution_count": null,
   "metadata": {
    "id": "RkPj-8-DUUGh"
   },
   "outputs": [],
   "source": [
    "import pandas as pd\n",
    "import numpy as np\n",
    "d=pd.read_csv(\"kdd_train.csv\")"
   ]
  },
  {
   "cell_type": "code",
   "execution_count": null,
   "metadata": {
    "colab": {
     "base_uri": "https://localhost:8080/",
     "height": 299
    },
    "id": "FA5Mev6raHA9",
    "outputId": "944a632a-1264-473d-bd0a-e5c5228de244"
   },
   "outputs": [
    {
     "data": {
      "text/html": [
       "<div>\n",
       "<style scoped>\n",
       "    .dataframe tbody tr th:only-of-type {\n",
       "        vertical-align: middle;\n",
       "    }\n",
       "\n",
       "    .dataframe tbody tr th {\n",
       "        vertical-align: top;\n",
       "    }\n",
       "\n",
       "    .dataframe thead th {\n",
       "        text-align: right;\n",
       "    }\n",
       "</style>\n",
       "<table border=\"1\" class=\"dataframe\">\n",
       "  <thead>\n",
       "    <tr style=\"text-align: right;\">\n",
       "      <th></th>\n",
       "      <th>duration</th>\n",
       "      <th>protocol_type</th>\n",
       "      <th>service</th>\n",
       "      <th>flag</th>\n",
       "      <th>src_bytes</th>\n",
       "      <th>dst_bytes</th>\n",
       "      <th>land</th>\n",
       "      <th>wrong_fragment</th>\n",
       "      <th>urgent</th>\n",
       "      <th>hot</th>\n",
       "      <th>...</th>\n",
       "      <th>dst_host_srv_count</th>\n",
       "      <th>dst_host_same_srv_rate</th>\n",
       "      <th>dst_host_diff_srv_rate</th>\n",
       "      <th>dst_host_same_src_port_rate</th>\n",
       "      <th>dst_host_srv_diff_host_rate</th>\n",
       "      <th>dst_host_serror_rate</th>\n",
       "      <th>dst_host_srv_serror_rate</th>\n",
       "      <th>dst_host_rerror_rate</th>\n",
       "      <th>dst_host_srv_rerror_rate</th>\n",
       "      <th>labels</th>\n",
       "    </tr>\n",
       "  </thead>\n",
       "  <tbody>\n",
       "    <tr>\n",
       "      <th>0</th>\n",
       "      <td>0</td>\n",
       "      <td>tcp</td>\n",
       "      <td>ftp_data</td>\n",
       "      <td>SF</td>\n",
       "      <td>491</td>\n",
       "      <td>0</td>\n",
       "      <td>0</td>\n",
       "      <td>0</td>\n",
       "      <td>0</td>\n",
       "      <td>0</td>\n",
       "      <td>...</td>\n",
       "      <td>25</td>\n",
       "      <td>0.17</td>\n",
       "      <td>0.03</td>\n",
       "      <td>0.17</td>\n",
       "      <td>0.00</td>\n",
       "      <td>0.00</td>\n",
       "      <td>0.00</td>\n",
       "      <td>0.05</td>\n",
       "      <td>0.00</td>\n",
       "      <td>normal</td>\n",
       "    </tr>\n",
       "    <tr>\n",
       "      <th>1</th>\n",
       "      <td>0</td>\n",
       "      <td>udp</td>\n",
       "      <td>other</td>\n",
       "      <td>SF</td>\n",
       "      <td>146</td>\n",
       "      <td>0</td>\n",
       "      <td>0</td>\n",
       "      <td>0</td>\n",
       "      <td>0</td>\n",
       "      <td>0</td>\n",
       "      <td>...</td>\n",
       "      <td>1</td>\n",
       "      <td>0.00</td>\n",
       "      <td>0.60</td>\n",
       "      <td>0.88</td>\n",
       "      <td>0.00</td>\n",
       "      <td>0.00</td>\n",
       "      <td>0.00</td>\n",
       "      <td>0.00</td>\n",
       "      <td>0.00</td>\n",
       "      <td>normal</td>\n",
       "    </tr>\n",
       "    <tr>\n",
       "      <th>2</th>\n",
       "      <td>0</td>\n",
       "      <td>tcp</td>\n",
       "      <td>private</td>\n",
       "      <td>S0</td>\n",
       "      <td>0</td>\n",
       "      <td>0</td>\n",
       "      <td>0</td>\n",
       "      <td>0</td>\n",
       "      <td>0</td>\n",
       "      <td>0</td>\n",
       "      <td>...</td>\n",
       "      <td>26</td>\n",
       "      <td>0.10</td>\n",
       "      <td>0.05</td>\n",
       "      <td>0.00</td>\n",
       "      <td>0.00</td>\n",
       "      <td>1.00</td>\n",
       "      <td>1.00</td>\n",
       "      <td>0.00</td>\n",
       "      <td>0.00</td>\n",
       "      <td>neptune</td>\n",
       "    </tr>\n",
       "    <tr>\n",
       "      <th>3</th>\n",
       "      <td>0</td>\n",
       "      <td>tcp</td>\n",
       "      <td>http</td>\n",
       "      <td>SF</td>\n",
       "      <td>232</td>\n",
       "      <td>8153</td>\n",
       "      <td>0</td>\n",
       "      <td>0</td>\n",
       "      <td>0</td>\n",
       "      <td>0</td>\n",
       "      <td>...</td>\n",
       "      <td>255</td>\n",
       "      <td>1.00</td>\n",
       "      <td>0.00</td>\n",
       "      <td>0.03</td>\n",
       "      <td>0.04</td>\n",
       "      <td>0.03</td>\n",
       "      <td>0.01</td>\n",
       "      <td>0.00</td>\n",
       "      <td>0.01</td>\n",
       "      <td>normal</td>\n",
       "    </tr>\n",
       "    <tr>\n",
       "      <th>4</th>\n",
       "      <td>0</td>\n",
       "      <td>tcp</td>\n",
       "      <td>http</td>\n",
       "      <td>SF</td>\n",
       "      <td>199</td>\n",
       "      <td>420</td>\n",
       "      <td>0</td>\n",
       "      <td>0</td>\n",
       "      <td>0</td>\n",
       "      <td>0</td>\n",
       "      <td>...</td>\n",
       "      <td>255</td>\n",
       "      <td>1.00</td>\n",
       "      <td>0.00</td>\n",
       "      <td>0.00</td>\n",
       "      <td>0.00</td>\n",
       "      <td>0.00</td>\n",
       "      <td>0.00</td>\n",
       "      <td>0.00</td>\n",
       "      <td>0.00</td>\n",
       "      <td>normal</td>\n",
       "    </tr>\n",
       "  </tbody>\n",
       "</table>\n",
       "<p>5 rows × 42 columns</p>\n",
       "</div>"
      ],
      "text/plain": [
       "   duration protocol_type   service flag  src_bytes  dst_bytes  land  \\\n",
       "0         0           tcp  ftp_data   SF        491          0     0   \n",
       "1         0           udp     other   SF        146          0     0   \n",
       "2         0           tcp   private   S0          0          0     0   \n",
       "3         0           tcp      http   SF        232       8153     0   \n",
       "4         0           tcp      http   SF        199        420     0   \n",
       "\n",
       "   wrong_fragment  urgent  hot  ...  dst_host_srv_count  \\\n",
       "0               0       0    0  ...                  25   \n",
       "1               0       0    0  ...                   1   \n",
       "2               0       0    0  ...                  26   \n",
       "3               0       0    0  ...                 255   \n",
       "4               0       0    0  ...                 255   \n",
       "\n",
       "   dst_host_same_srv_rate  dst_host_diff_srv_rate  \\\n",
       "0                    0.17                    0.03   \n",
       "1                    0.00                    0.60   \n",
       "2                    0.10                    0.05   \n",
       "3                    1.00                    0.00   \n",
       "4                    1.00                    0.00   \n",
       "\n",
       "   dst_host_same_src_port_rate  dst_host_srv_diff_host_rate  \\\n",
       "0                         0.17                         0.00   \n",
       "1                         0.88                         0.00   \n",
       "2                         0.00                         0.00   \n",
       "3                         0.03                         0.04   \n",
       "4                         0.00                         0.00   \n",
       "\n",
       "   dst_host_serror_rate  dst_host_srv_serror_rate  dst_host_rerror_rate  \\\n",
       "0                  0.00                      0.00                  0.05   \n",
       "1                  0.00                      0.00                  0.00   \n",
       "2                  1.00                      1.00                  0.00   \n",
       "3                  0.03                      0.01                  0.00   \n",
       "4                  0.00                      0.00                  0.00   \n",
       "\n",
       "   dst_host_srv_rerror_rate   labels  \n",
       "0                      0.00   normal  \n",
       "1                      0.00   normal  \n",
       "2                      0.00  neptune  \n",
       "3                      0.01   normal  \n",
       "4                      0.00   normal  \n",
       "\n",
       "[5 rows x 42 columns]"
      ]
     },
     "execution_count": 3,
     "metadata": {},
     "output_type": "execute_result"
    }
   ],
   "source": [
    "d.head()"
   ]
  },
  {
   "cell_type": "code",
   "execution_count": null,
   "metadata": {
    "colab": {
     "base_uri": "https://localhost:8080/",
     "height": 299
    },
    "id": "YFuRq8kubrBa",
    "outputId": "44aad8a9-5927-4832-c31e-7f45ed80370e"
   },
   "outputs": [
    {
     "data": {
      "text/html": [
       "<div>\n",
       "<style scoped>\n",
       "    .dataframe tbody tr th:only-of-type {\n",
       "        vertical-align: middle;\n",
       "    }\n",
       "\n",
       "    .dataframe tbody tr th {\n",
       "        vertical-align: top;\n",
       "    }\n",
       "\n",
       "    .dataframe thead th {\n",
       "        text-align: right;\n",
       "    }\n",
       "</style>\n",
       "<table border=\"1\" class=\"dataframe\">\n",
       "  <thead>\n",
       "    <tr style=\"text-align: right;\">\n",
       "      <th></th>\n",
       "      <th>duration</th>\n",
       "      <th>protocol_type</th>\n",
       "      <th>service</th>\n",
       "      <th>flag</th>\n",
       "      <th>src_bytes</th>\n",
       "      <th>dst_bytes</th>\n",
       "      <th>land</th>\n",
       "      <th>wrong_fragment</th>\n",
       "      <th>urgent</th>\n",
       "      <th>hot</th>\n",
       "      <th>...</th>\n",
       "      <th>dst_host_srv_count</th>\n",
       "      <th>dst_host_same_srv_rate</th>\n",
       "      <th>dst_host_diff_srv_rate</th>\n",
       "      <th>dst_host_same_src_port_rate</th>\n",
       "      <th>dst_host_srv_diff_host_rate</th>\n",
       "      <th>dst_host_serror_rate</th>\n",
       "      <th>dst_host_srv_serror_rate</th>\n",
       "      <th>dst_host_rerror_rate</th>\n",
       "      <th>dst_host_srv_rerror_rate</th>\n",
       "      <th>labels</th>\n",
       "    </tr>\n",
       "  </thead>\n",
       "  <tbody>\n",
       "    <tr>\n",
       "      <th>125968</th>\n",
       "      <td>0</td>\n",
       "      <td>tcp</td>\n",
       "      <td>private</td>\n",
       "      <td>S0</td>\n",
       "      <td>0</td>\n",
       "      <td>0</td>\n",
       "      <td>0</td>\n",
       "      <td>0</td>\n",
       "      <td>0</td>\n",
       "      <td>0</td>\n",
       "      <td>...</td>\n",
       "      <td>25</td>\n",
       "      <td>0.10</td>\n",
       "      <td>0.06</td>\n",
       "      <td>0.00</td>\n",
       "      <td>0.0</td>\n",
       "      <td>1.00</td>\n",
       "      <td>1.0</td>\n",
       "      <td>0.00</td>\n",
       "      <td>0.0</td>\n",
       "      <td>neptune</td>\n",
       "    </tr>\n",
       "    <tr>\n",
       "      <th>125969</th>\n",
       "      <td>8</td>\n",
       "      <td>udp</td>\n",
       "      <td>private</td>\n",
       "      <td>SF</td>\n",
       "      <td>105</td>\n",
       "      <td>145</td>\n",
       "      <td>0</td>\n",
       "      <td>0</td>\n",
       "      <td>0</td>\n",
       "      <td>0</td>\n",
       "      <td>...</td>\n",
       "      <td>244</td>\n",
       "      <td>0.96</td>\n",
       "      <td>0.01</td>\n",
       "      <td>0.01</td>\n",
       "      <td>0.0</td>\n",
       "      <td>0.00</td>\n",
       "      <td>0.0</td>\n",
       "      <td>0.00</td>\n",
       "      <td>0.0</td>\n",
       "      <td>normal</td>\n",
       "    </tr>\n",
       "    <tr>\n",
       "      <th>125970</th>\n",
       "      <td>0</td>\n",
       "      <td>tcp</td>\n",
       "      <td>smtp</td>\n",
       "      <td>SF</td>\n",
       "      <td>2231</td>\n",
       "      <td>384</td>\n",
       "      <td>0</td>\n",
       "      <td>0</td>\n",
       "      <td>0</td>\n",
       "      <td>0</td>\n",
       "      <td>...</td>\n",
       "      <td>30</td>\n",
       "      <td>0.12</td>\n",
       "      <td>0.06</td>\n",
       "      <td>0.00</td>\n",
       "      <td>0.0</td>\n",
       "      <td>0.72</td>\n",
       "      <td>0.0</td>\n",
       "      <td>0.01</td>\n",
       "      <td>0.0</td>\n",
       "      <td>normal</td>\n",
       "    </tr>\n",
       "    <tr>\n",
       "      <th>125971</th>\n",
       "      <td>0</td>\n",
       "      <td>tcp</td>\n",
       "      <td>klogin</td>\n",
       "      <td>S0</td>\n",
       "      <td>0</td>\n",
       "      <td>0</td>\n",
       "      <td>0</td>\n",
       "      <td>0</td>\n",
       "      <td>0</td>\n",
       "      <td>0</td>\n",
       "      <td>...</td>\n",
       "      <td>8</td>\n",
       "      <td>0.03</td>\n",
       "      <td>0.05</td>\n",
       "      <td>0.00</td>\n",
       "      <td>0.0</td>\n",
       "      <td>1.00</td>\n",
       "      <td>1.0</td>\n",
       "      <td>0.00</td>\n",
       "      <td>0.0</td>\n",
       "      <td>neptune</td>\n",
       "    </tr>\n",
       "    <tr>\n",
       "      <th>125972</th>\n",
       "      <td>0</td>\n",
       "      <td>tcp</td>\n",
       "      <td>ftp_data</td>\n",
       "      <td>SF</td>\n",
       "      <td>151</td>\n",
       "      <td>0</td>\n",
       "      <td>0</td>\n",
       "      <td>0</td>\n",
       "      <td>0</td>\n",
       "      <td>0</td>\n",
       "      <td>...</td>\n",
       "      <td>77</td>\n",
       "      <td>0.30</td>\n",
       "      <td>0.03</td>\n",
       "      <td>0.30</td>\n",
       "      <td>0.0</td>\n",
       "      <td>0.00</td>\n",
       "      <td>0.0</td>\n",
       "      <td>0.00</td>\n",
       "      <td>0.0</td>\n",
       "      <td>normal</td>\n",
       "    </tr>\n",
       "  </tbody>\n",
       "</table>\n",
       "<p>5 rows × 42 columns</p>\n",
       "</div>"
      ],
      "text/plain": [
       "        duration protocol_type   service flag  src_bytes  dst_bytes  land  \\\n",
       "125968         0           tcp   private   S0          0          0     0   \n",
       "125969         8           udp   private   SF        105        145     0   \n",
       "125970         0           tcp      smtp   SF       2231        384     0   \n",
       "125971         0           tcp    klogin   S0          0          0     0   \n",
       "125972         0           tcp  ftp_data   SF        151          0     0   \n",
       "\n",
       "        wrong_fragment  urgent  hot  ...  dst_host_srv_count  \\\n",
       "125968               0       0    0  ...                  25   \n",
       "125969               0       0    0  ...                 244   \n",
       "125970               0       0    0  ...                  30   \n",
       "125971               0       0    0  ...                   8   \n",
       "125972               0       0    0  ...                  77   \n",
       "\n",
       "        dst_host_same_srv_rate  dst_host_diff_srv_rate  \\\n",
       "125968                    0.10                    0.06   \n",
       "125969                    0.96                    0.01   \n",
       "125970                    0.12                    0.06   \n",
       "125971                    0.03                    0.05   \n",
       "125972                    0.30                    0.03   \n",
       "\n",
       "        dst_host_same_src_port_rate  dst_host_srv_diff_host_rate  \\\n",
       "125968                         0.00                          0.0   \n",
       "125969                         0.01                          0.0   \n",
       "125970                         0.00                          0.0   \n",
       "125971                         0.00                          0.0   \n",
       "125972                         0.30                          0.0   \n",
       "\n",
       "        dst_host_serror_rate  dst_host_srv_serror_rate  dst_host_rerror_rate  \\\n",
       "125968                  1.00                       1.0                  0.00   \n",
       "125969                  0.00                       0.0                  0.00   \n",
       "125970                  0.72                       0.0                  0.01   \n",
       "125971                  1.00                       1.0                  0.00   \n",
       "125972                  0.00                       0.0                  0.00   \n",
       "\n",
       "        dst_host_srv_rerror_rate   labels  \n",
       "125968                       0.0  neptune  \n",
       "125969                       0.0   normal  \n",
       "125970                       0.0   normal  \n",
       "125971                       0.0  neptune  \n",
       "125972                       0.0   normal  \n",
       "\n",
       "[5 rows x 42 columns]"
      ]
     },
     "execution_count": 4,
     "metadata": {},
     "output_type": "execute_result"
    }
   ],
   "source": [
    "d.tail()"
   ]
  },
  {
   "cell_type": "code",
   "execution_count": null,
   "metadata": {
    "id": "wgcWFS85OQyn"
   },
   "outputs": [],
   "source": [
    "d[\"labels\"] = d[\"labels\"].replace(['neptune', 'warezclient', 'ipsweep', 'portsweep',\n",
    "       'teardrop', 'nmap', 'satan', 'smurf', 'pod', 'back',\n",
    "       'guess_passwd', 'ftp_write', 'multihop', 'rootkit',\n",
    "       'buffer_overflow', 'imap', 'warezmaster', 'phf', 'land',\n",
    "       'loadmodule', 'spy', 'perl'], 'attack')"
   ]
  },
  {
   "cell_type": "code",
   "execution_count": null,
   "metadata": {
    "colab": {
     "base_uri": "https://localhost:8080/"
    },
    "id": "LeW1EQxEPSTt",
    "outputId": "eb1e4538-3f90-4677-8a58-c80c5fe9bbb5"
   },
   "outputs": [
    {
     "data": {
      "text/plain": [
       "array(['normal', 'attack'], dtype=object)"
      ]
     },
     "execution_count": 6,
     "metadata": {},
     "output_type": "execute_result"
    }
   ],
   "source": [
    "d[\"labels\"].unique()"
   ]
  },
  {
   "cell_type": "code",
   "execution_count": null,
   "metadata": {
    "id": "3c_Q8LX_xD6x"
   },
   "outputs": [],
   "source": [
    "d=d.dropna()"
   ]
  },
  {
   "cell_type": "code",
   "execution_count": null,
   "metadata": {
    "colab": {
     "base_uri": "https://localhost:8080/"
    },
    "id": "Kzi-1ODpxHwR",
    "outputId": "82bae7e0-0406-4e77-df1c-c4c4582c951d"
   },
   "outputs": [
    {
     "data": {
      "text/plain": [
       "array(['normal', 'attack'], dtype=object)"
      ]
     },
     "execution_count": 8,
     "metadata": {},
     "output_type": "execute_result"
    }
   ],
   "source": [
    "d[\"labels\"].unique()"
   ]
  },
  {
   "cell_type": "code",
   "execution_count": null,
   "metadata": {
    "colab": {
     "base_uri": "https://localhost:8080/"
    },
    "id": "4sZ_i2vowgc0",
    "outputId": "40f3d61d-4b25-48e0-e88a-36d8e7c2bbdf"
   },
   "outputs": [
    {
     "data": {
      "text/plain": [
       "Index(['duration', 'protocol_type', 'service', 'flag', 'src_bytes',\n",
       "       'dst_bytes', 'land', 'wrong_fragment', 'urgent', 'hot',\n",
       "       'num_failed_logins', 'logged_in', 'num_compromised', 'root_shell',\n",
       "       'su_attempted', 'num_root', 'num_file_creations', 'num_shells',\n",
       "       'num_access_files', 'num_outbound_cmds', 'is_host_login',\n",
       "       'is_guest_login', 'count', 'srv_count', 'serror_rate',\n",
       "       'srv_serror_rate', 'rerror_rate', 'srv_rerror_rate', 'same_srv_rate',\n",
       "       'diff_srv_rate', 'srv_diff_host_rate', 'dst_host_count',\n",
       "       'dst_host_srv_count', 'dst_host_same_srv_rate',\n",
       "       'dst_host_diff_srv_rate', 'dst_host_same_src_port_rate',\n",
       "       'dst_host_srv_diff_host_rate', 'dst_host_serror_rate',\n",
       "       'dst_host_srv_serror_rate', 'dst_host_rerror_rate',\n",
       "       'dst_host_srv_rerror_rate', 'labels'],\n",
       "      dtype='object')"
      ]
     },
     "execution_count": 9,
     "metadata": {},
     "output_type": "execute_result"
    }
   ],
   "source": [
    "d.columns"
   ]
  },
  {
   "cell_type": "code",
   "execution_count": null,
   "metadata": {
    "colab": {
     "base_uri": "https://localhost:8080/"
    },
    "id": "qIb89rBesLkW",
    "outputId": "8bd06e6d-318c-46b8-8a71-51c1775edcde"
   },
   "outputs": [
    {
     "data": {
      "text/plain": [
       "duration                       0\n",
       "protocol_type                  0\n",
       "service                        0\n",
       "flag                           0\n",
       "src_bytes                      0\n",
       "dst_bytes                      0\n",
       "land                           0\n",
       "wrong_fragment                 0\n",
       "urgent                         0\n",
       "hot                            0\n",
       "num_failed_logins              0\n",
       "logged_in                      0\n",
       "num_compromised                0\n",
       "root_shell                     0\n",
       "su_attempted                   0\n",
       "num_root                       0\n",
       "num_file_creations             0\n",
       "num_shells                     0\n",
       "num_access_files               0\n",
       "num_outbound_cmds              0\n",
       "is_host_login                  0\n",
       "is_guest_login                 0\n",
       "count                          0\n",
       "srv_count                      0\n",
       "serror_rate                    0\n",
       "srv_serror_rate                0\n",
       "rerror_rate                    0\n",
       "srv_rerror_rate                0\n",
       "same_srv_rate                  0\n",
       "diff_srv_rate                  0\n",
       "srv_diff_host_rate             0\n",
       "dst_host_count                 0\n",
       "dst_host_srv_count             0\n",
       "dst_host_same_srv_rate         0\n",
       "dst_host_diff_srv_rate         0\n",
       "dst_host_same_src_port_rate    0\n",
       "dst_host_srv_diff_host_rate    0\n",
       "dst_host_serror_rate           0\n",
       "dst_host_srv_serror_rate       0\n",
       "dst_host_rerror_rate           0\n",
       "dst_host_srv_rerror_rate       0\n",
       "labels                         0\n",
       "dtype: int64"
      ]
     },
     "execution_count": 10,
     "metadata": {},
     "output_type": "execute_result"
    }
   ],
   "source": [
    "d.isnull().sum()"
   ]
  },
  {
   "cell_type": "code",
   "execution_count": null,
   "metadata": {
    "id": "gWD4i352NDWC"
   },
   "outputs": [],
   "source": [
    "x = d.iloc[:, :-1].values\n",
    "y = d.iloc[:, 41].values"
   ]
  },
  {
   "cell_type": "code",
   "execution_count": null,
   "metadata": {
    "id": "izWqasWfPv7P"
   },
   "outputs": [],
   "source": [
    "#encoding categorical data\n",
    "from sklearn.preprocessing import LabelEncoder, OneHotEncoder\n",
    "\n",
    "#first applying label encoding to convert strings to number.\n",
    "#display(x[:,2])\n",
    "labelencoder_x_1 = LabelEncoder()\n",
    "labelencoder_x_2 = LabelEncoder()\n",
    "labelencoder_x_3 = LabelEncoder()\n",
    "x[:, 1] = labelencoder_x_1.fit_transform(x[:, 1])\n",
    "x[:, 2] = labelencoder_x_2.fit_transform(x[:, 2])\n",
    "x[:, 3] = labelencoder_x_3.fit_transform(x[:, 3])"
   ]
  },
  {
   "cell_type": "code",
   "execution_count": null,
   "metadata": {
    "id": "lxKN6Nd_P-_t"
   },
   "outputs": [],
   "source": [
    "#labelencoder_y = LabelEncoder()\n",
    "#y = labelencoder_y.fit_transform(y)"
   ]
  },
  {
   "cell_type": "code",
   "execution_count": null,
   "metadata": {
    "colab": {
     "base_uri": "https://localhost:8080/",
     "height": 139
    },
    "id": "HRFdR8ObwLms",
    "outputId": "6b854b81-aafc-4a48-ceee-f271c2853474"
   },
   "outputs": [
    {
     "data": {
      "text/plain": [
       "array([[0, 1, 20, ..., 0.0, 0.05, 0.0],\n",
       "       [0, 2, 44, ..., 0.0, 0.0, 0.0],\n",
       "       [0, 1, 49, ..., 1.0, 0.0, 0.0],\n",
       "       ...,\n",
       "       [0, 1, 54, ..., 0.0, 0.01, 0.0],\n",
       "       [0, 1, 30, ..., 1.0, 0.0, 0.0],\n",
       "       [0, 1, 20, ..., 0.0, 0.0, 0.0]], dtype=object)"
      ]
     },
     "metadata": {},
     "output_type": "display_data"
    }
   ],
   "source": [
    "display(x)"
   ]
  },
  {
   "cell_type": "code",
   "execution_count": null,
   "metadata": {
    "colab": {
     "base_uri": "https://localhost:8080/",
     "height": 34
    },
    "id": "D50nxamVQFe6",
    "outputId": "ec86b968-82b7-44a5-e65e-804f66f7d653"
   },
   "outputs": [
    {
     "data": {
      "text/plain": [
       "{'attack', 'normal'}"
      ]
     },
     "metadata": {},
     "output_type": "display_data"
    }
   ],
   "source": [
    "display(set(y))"
   ]
  },
  {
   "cell_type": "markdown",
   "metadata": {
    "id": "xECYPsnYfJJ-"
   },
   "source": [
    "Standardize the variables\n",
    "Note: Column names to be appended after performing Standardization"
   ]
  },
  {
   "cell_type": "code",
   "execution_count": null,
   "metadata": {
    "id": "j8_9ES5eQYgL"
   },
   "outputs": [],
   "source": [
    "from sklearn.preprocessing import StandardScaler\n",
    "ss = StandardScaler()\n",
    "x = pd.DataFrame(ss.fit_transform(x), columns=['duration', 'protocol_type', 'service', 'flag', 'src_bytes',\n",
    "       'dst_bytes', 'land', 'wrong_fragment', 'urgent', 'hot',\n",
    "       'num_failed_logins', 'logged_in', 'num_compromised', 'root_shell',\n",
    "       'su_attempted', 'num_root', 'num_file_creations', 'num_shells',\n",
    "       'num_access_files', 'num_outbound_cmds', 'is_host_login',\n",
    "       'is_guest_login', 'count', 'srv_count', 'serror_rate',\n",
    "       'srv_serror_rate', 'rerror_rate', 'srv_rerror_rate', 'same_srv_rate',\n",
    "       'diff_srv_rate', 'srv_diff_host_rate', 'dst_host_count',\n",
    "       'dst_host_srv_count', 'dst_host_same_srv_rate',\n",
    "       'dst_host_diff_srv_rate', 'dst_host_same_src_port_rate',\n",
    "       'dst_host_srv_diff_host_rate', 'dst_host_serror_rate',\n",
    "       'dst_host_srv_serror_rate', 'dst_host_rerror_rate',\n",
    "       'dst_host_srv_rerror_rate'])"
   ]
  },
  {
   "cell_type": "markdown",
   "metadata": {
    "id": "wXvVVAYvffUm"
   },
   "source": [
    "Picking 1000 samples randomly"
   ]
  },
  {
   "cell_type": "code",
   "execution_count": null,
   "metadata": {
    "colab": {
     "base_uri": "https://localhost:8080/",
     "height": 299
    },
    "id": "JziqQj7Xt9RR",
    "outputId": "c055f215-0143-4933-df42-b54f4a232b77"
   },
   "outputs": [
    {
     "data": {
      "text/html": [
       "<div>\n",
       "<style scoped>\n",
       "    .dataframe tbody tr th:only-of-type {\n",
       "        vertical-align: middle;\n",
       "    }\n",
       "\n",
       "    .dataframe tbody tr th {\n",
       "        vertical-align: top;\n",
       "    }\n",
       "\n",
       "    .dataframe thead th {\n",
       "        text-align: right;\n",
       "    }\n",
       "</style>\n",
       "<table border=\"1\" class=\"dataframe\">\n",
       "  <thead>\n",
       "    <tr style=\"text-align: right;\">\n",
       "      <th></th>\n",
       "      <th>duration</th>\n",
       "      <th>protocol_type</th>\n",
       "      <th>service</th>\n",
       "      <th>flag</th>\n",
       "      <th>src_bytes</th>\n",
       "      <th>dst_bytes</th>\n",
       "      <th>land</th>\n",
       "      <th>wrong_fragment</th>\n",
       "      <th>urgent</th>\n",
       "      <th>hot</th>\n",
       "      <th>...</th>\n",
       "      <th>dst_host_count</th>\n",
       "      <th>dst_host_srv_count</th>\n",
       "      <th>dst_host_same_srv_rate</th>\n",
       "      <th>dst_host_diff_srv_rate</th>\n",
       "      <th>dst_host_same_src_port_rate</th>\n",
       "      <th>dst_host_srv_diff_host_rate</th>\n",
       "      <th>dst_host_serror_rate</th>\n",
       "      <th>dst_host_srv_serror_rate</th>\n",
       "      <th>dst_host_rerror_rate</th>\n",
       "      <th>dst_host_srv_rerror_rate</th>\n",
       "    </tr>\n",
       "  </thead>\n",
       "  <tbody>\n",
       "    <tr>\n",
       "      <th>0</th>\n",
       "      <td>-0.110249</td>\n",
       "      <td>-0.124706</td>\n",
       "      <td>-0.442083</td>\n",
       "      <td>0.751111</td>\n",
       "      <td>-0.007712</td>\n",
       "      <td>-0.001636</td>\n",
       "      <td>-0.014089</td>\n",
       "      <td>-0.089486</td>\n",
       "      <td>-0.007736</td>\n",
       "      <td>-0.095076</td>\n",
       "      <td>...</td>\n",
       "      <td>-1.674790</td>\n",
       "      <td>1.258754</td>\n",
       "      <td>1.066401</td>\n",
       "      <td>-0.439078</td>\n",
       "      <td>-0.286020</td>\n",
       "      <td>0.332769</td>\n",
       "      <td>-0.639532</td>\n",
       "      <td>-0.624871</td>\n",
       "      <td>-0.387635</td>\n",
       "      <td>-0.376387</td>\n",
       "    </tr>\n",
       "    <tr>\n",
       "      <th>1</th>\n",
       "      <td>-0.110249</td>\n",
       "      <td>-0.124706</td>\n",
       "      <td>-0.442083</td>\n",
       "      <td>-0.736235</td>\n",
       "      <td>-0.007762</td>\n",
       "      <td>-0.004919</td>\n",
       "      <td>-0.014089</td>\n",
       "      <td>-0.089486</td>\n",
       "      <td>-0.007736</td>\n",
       "      <td>-0.095076</td>\n",
       "      <td>...</td>\n",
       "      <td>0.734343</td>\n",
       "      <td>-0.448527</td>\n",
       "      <td>-0.581898</td>\n",
       "      <td>-0.333214</td>\n",
       "      <td>-0.447834</td>\n",
       "      <td>-0.289103</td>\n",
       "      <td>1.608759</td>\n",
       "      <td>1.618955</td>\n",
       "      <td>-0.387635</td>\n",
       "      <td>-0.376387</td>\n",
       "    </tr>\n",
       "    <tr>\n",
       "      <th>2</th>\n",
       "      <td>-0.110249</td>\n",
       "      <td>-0.124706</td>\n",
       "      <td>-0.442083</td>\n",
       "      <td>0.751111</td>\n",
       "      <td>-0.007712</td>\n",
       "      <td>-0.004857</td>\n",
       "      <td>-0.014089</td>\n",
       "      <td>-0.089486</td>\n",
       "      <td>-0.007736</td>\n",
       "      <td>-0.095076</td>\n",
       "      <td>...</td>\n",
       "      <td>-1.301828</td>\n",
       "      <td>1.258754</td>\n",
       "      <td>1.066401</td>\n",
       "      <td>-0.439078</td>\n",
       "      <td>-0.415471</td>\n",
       "      <td>-0.022587</td>\n",
       "      <td>-0.639532</td>\n",
       "      <td>-0.624871</td>\n",
       "      <td>-0.387635</td>\n",
       "      <td>-0.376387</td>\n",
       "    </tr>\n",
       "    <tr>\n",
       "      <th>3</th>\n",
       "      <td>-0.110249</td>\n",
       "      <td>-0.124706</td>\n",
       "      <td>-0.686785</td>\n",
       "      <td>0.751111</td>\n",
       "      <td>-0.007728</td>\n",
       "      <td>-0.004919</td>\n",
       "      <td>-0.014089</td>\n",
       "      <td>-0.089486</td>\n",
       "      <td>-0.007736</td>\n",
       "      <td>-0.095076</td>\n",
       "      <td>...</td>\n",
       "      <td>-1.604230</td>\n",
       "      <td>-0.403361</td>\n",
       "      <td>0.865933</td>\n",
       "      <td>0.037311</td>\n",
       "      <td>2.464826</td>\n",
       "      <td>-0.022587</td>\n",
       "      <td>-0.639532</td>\n",
       "      <td>-0.624871</td>\n",
       "      <td>-0.387635</td>\n",
       "      <td>-0.376387</td>\n",
       "    </tr>\n",
       "    <tr>\n",
       "      <th>4</th>\n",
       "      <td>-0.109481</td>\n",
       "      <td>-0.124706</td>\n",
       "      <td>1.393183</td>\n",
       "      <td>0.751111</td>\n",
       "      <td>-0.006969</td>\n",
       "      <td>-0.004836</td>\n",
       "      <td>-0.014089</td>\n",
       "      <td>-0.089486</td>\n",
       "      <td>-0.007736</td>\n",
       "      <td>-0.095076</td>\n",
       "      <td>...</td>\n",
       "      <td>-0.777666</td>\n",
       "      <td>0.499962</td>\n",
       "      <td>0.776835</td>\n",
       "      <td>-0.227350</td>\n",
       "      <td>-0.447834</td>\n",
       "      <td>-0.200265</td>\n",
       "      <td>-0.639532</td>\n",
       "      <td>-0.624871</td>\n",
       "      <td>-0.387635</td>\n",
       "      <td>-0.376387</td>\n",
       "    </tr>\n",
       "  </tbody>\n",
       "</table>\n",
       "<p>5 rows × 41 columns</p>\n",
       "</div>"
      ],
      "text/plain": [
       "   duration  protocol_type   service      flag  src_bytes  dst_bytes  \\\n",
       "0 -0.110249      -0.124706 -0.442083  0.751111  -0.007712  -0.001636   \n",
       "1 -0.110249      -0.124706 -0.442083 -0.736235  -0.007762  -0.004919   \n",
       "2 -0.110249      -0.124706 -0.442083  0.751111  -0.007712  -0.004857   \n",
       "3 -0.110249      -0.124706 -0.686785  0.751111  -0.007728  -0.004919   \n",
       "4 -0.109481      -0.124706  1.393183  0.751111  -0.006969  -0.004836   \n",
       "\n",
       "       land  wrong_fragment    urgent       hot  ...  dst_host_count  \\\n",
       "0 -0.014089       -0.089486 -0.007736 -0.095076  ...       -1.674790   \n",
       "1 -0.014089       -0.089486 -0.007736 -0.095076  ...        0.734343   \n",
       "2 -0.014089       -0.089486 -0.007736 -0.095076  ...       -1.301828   \n",
       "3 -0.014089       -0.089486 -0.007736 -0.095076  ...       -1.604230   \n",
       "4 -0.014089       -0.089486 -0.007736 -0.095076  ...       -0.777666   \n",
       "\n",
       "   dst_host_srv_count  dst_host_same_srv_rate  dst_host_diff_srv_rate  \\\n",
       "0            1.258754                1.066401               -0.439078   \n",
       "1           -0.448527               -0.581898               -0.333214   \n",
       "2            1.258754                1.066401               -0.439078   \n",
       "3           -0.403361                0.865933                0.037311   \n",
       "4            0.499962                0.776835               -0.227350   \n",
       "\n",
       "   dst_host_same_src_port_rate  dst_host_srv_diff_host_rate  \\\n",
       "0                    -0.286020                     0.332769   \n",
       "1                    -0.447834                    -0.289103   \n",
       "2                    -0.415471                    -0.022587   \n",
       "3                     2.464826                    -0.022587   \n",
       "4                    -0.447834                    -0.200265   \n",
       "\n",
       "   dst_host_serror_rate  dst_host_srv_serror_rate  dst_host_rerror_rate  \\\n",
       "0             -0.639532                 -0.624871             -0.387635   \n",
       "1              1.608759                  1.618955             -0.387635   \n",
       "2             -0.639532                 -0.624871             -0.387635   \n",
       "3             -0.639532                 -0.624871             -0.387635   \n",
       "4             -0.639532                 -0.624871             -0.387635   \n",
       "\n",
       "   dst_host_srv_rerror_rate  \n",
       "0                 -0.376387  \n",
       "1                 -0.376387  \n",
       "2                 -0.376387  \n",
       "3                 -0.376387  \n",
       "4                 -0.376387  \n",
       "\n",
       "[5 rows x 41 columns]"
      ]
     },
     "execution_count": 17,
     "metadata": {},
     "output_type": "execute_result"
    }
   ],
   "source": [
    "x = x.sample(n = 1000, random_state = 12).copy()\n",
    "x = x.reset_index(drop=True)\n",
    "x.head()"
   ]
  },
  {
   "cell_type": "markdown",
   "metadata": {
    "id": "unGXUmCRflzc"
   },
   "source": [
    "Extracting dst_host_serror_rate feature in a new Dataframe"
   ]
  },
  {
   "cell_type": "code",
   "execution_count": null,
   "metadata": {
    "id": "xv6zuZFquvqL"
   },
   "outputs": [],
   "source": [
    "x1 = x.iloc[:, 37].values\n",
    "x1 = pd.DataFrame(x1,columns=['dst_host_serror_rate'])\n"
   ]
  },
  {
   "cell_type": "markdown",
   "metadata": {
    "id": "69qdNHigf2vw"
   },
   "source": [
    "Extracting serror_rate feature in a new Dataframe"
   ]
  },
  {
   "cell_type": "code",
   "execution_count": null,
   "metadata": {
    "id": "kp8c0IOzvbrM"
   },
   "outputs": [],
   "source": [
    "x2 = x.iloc[:, 24].values\n",
    "x2 = pd.DataFrame(x2,columns=['serror_rate'])"
   ]
  },
  {
   "cell_type": "markdown",
   "metadata": {
    "id": "LnqIK1QTf51F"
   },
   "source": [
    "Concatenate 2 Dataframes holding 2 different conditional attributes"
   ]
  },
  {
   "cell_type": "code",
   "execution_count": null,
   "metadata": {
    "id": "9GT6gBBGvsxH"
   },
   "outputs": [],
   "source": [
    "x3 = pd.concat([x1,x2],axis=1)\n",
    "x3 = pd.DataFrame(x3)"
   ]
  },
  {
   "cell_type": "code",
   "execution_count": null,
   "metadata": {
    "colab": {
     "base_uri": "https://localhost:8080/",
     "height": 206
    },
    "id": "tRtNcYMaz11S",
    "outputId": "f60b5a92-4ad6-4bc4-daa9-f0755c4848bf"
   },
   "outputs": [
    {
     "data": {
      "text/html": [
       "<div>\n",
       "<style scoped>\n",
       "    .dataframe tbody tr th:only-of-type {\n",
       "        vertical-align: middle;\n",
       "    }\n",
       "\n",
       "    .dataframe tbody tr th {\n",
       "        vertical-align: top;\n",
       "    }\n",
       "\n",
       "    .dataframe thead th {\n",
       "        text-align: right;\n",
       "    }\n",
       "</style>\n",
       "<table border=\"1\" class=\"dataframe\">\n",
       "  <thead>\n",
       "    <tr style=\"text-align: right;\">\n",
       "      <th></th>\n",
       "      <th>dst_host_serror_rate</th>\n",
       "      <th>serror_rate</th>\n",
       "    </tr>\n",
       "  </thead>\n",
       "  <tbody>\n",
       "    <tr>\n",
       "      <th>0</th>\n",
       "      <td>-0.639532</td>\n",
       "      <td>-0.637209</td>\n",
       "    </tr>\n",
       "    <tr>\n",
       "      <th>1</th>\n",
       "      <td>1.608759</td>\n",
       "      <td>1.602664</td>\n",
       "    </tr>\n",
       "    <tr>\n",
       "      <th>2</th>\n",
       "      <td>-0.639532</td>\n",
       "      <td>-0.637209</td>\n",
       "    </tr>\n",
       "    <tr>\n",
       "      <th>3</th>\n",
       "      <td>-0.639532</td>\n",
       "      <td>-0.637209</td>\n",
       "    </tr>\n",
       "    <tr>\n",
       "      <th>4</th>\n",
       "      <td>-0.639532</td>\n",
       "      <td>-0.637209</td>\n",
       "    </tr>\n",
       "  </tbody>\n",
       "</table>\n",
       "</div>"
      ],
      "text/plain": [
       "   dst_host_serror_rate  serror_rate\n",
       "0             -0.639532    -0.637209\n",
       "1              1.608759     1.602664\n",
       "2             -0.639532    -0.637209\n",
       "3             -0.639532    -0.637209\n",
       "4             -0.639532    -0.637209"
      ]
     },
     "execution_count": 21,
     "metadata": {},
     "output_type": "execute_result"
    }
   ],
   "source": [
    "x3.head()"
   ]
  },
  {
   "cell_type": "markdown",
   "metadata": {
    "id": "TA_6PzWpgEVw"
   },
   "source": [
    "Data Visualization"
   ]
  },
  {
   "cell_type": "code",
   "execution_count": null,
   "metadata": {
    "colab": {
     "base_uri": "https://localhost:8080/",
     "height": 405
    },
    "id": "LCBH3SnGxj4G",
    "outputId": "8e5b4b87-f292-4f02-d891-0351c769dc58"
   },
   "outputs": [
    {
     "data": {
      "image/png": "[encoded data removed]",
      "text/plain": [
       "<Figure size 800x600 with 1 Axes>"
      ]
     },
     "metadata": {},
     "output_type": "display_data"
    }
   ],
   "source": [
    "import matplotlib.pyplot as plt\n",
    "plt.figure(figsize=(8,6))\n",
    "plt.scatter(x3.dst_host_serror_rate, x3.serror_rate)\n",
    "plt.xlabel('dst_host_serror_rate')\n",
    "plt.ylabel('serror_rate')\n",
    "plt.title('Scatter plot of dst_host_serror_rate vs. serror_rate')\n",
    "plt.show()"
   ]
  },
  {
   "cell_type": "markdown",
   "metadata": {
    "id": "r3pTcWoKgNY6"
   },
   "source": [
    "Train and fit a K-means clustering model"
   ]
  },
  {
   "cell_type": "code",
   "execution_count": null,
   "metadata": {
    "id": "eurHKUZVyaSi"
   },
   "outputs": [],
   "source": [
    "from sklearn.cluster import KMeans"
   ]
  },
  {
   "cell_type": "code",
   "execution_count": null,
   "metadata": {
    "id": "-o4WViJDykSY"
   },
   "outputs": [],
   "source": [
    "km = KMeans(n_clusters=6)\n",
    "model = km.fit(x3)"
   ]
  },
  {
   "cell_type": "markdown",
   "metadata": {
    "id": "z7K8_62pgZ2y"
   },
   "source": [
    "Cluster visualization"
   ]
  },
  {
   "cell_type": "code",
   "execution_count": null,
   "metadata": {
    "colab": {
     "base_uri": "https://localhost:8080/",
     "height": 405
    },
    "id": "RDX8Gmeuyt6y",
    "outputId": "2d849e7d-afa3-4099-fa3d-7fa4e192f7cb"
   },
   "outputs": [
    {
     "data": {
      "image/png": "[encoded data removed]",
      "text/plain": [
       "<Figure size 800x600 with 1 Axes>"
      ]
     },
     "metadata": {},
     "output_type": "display_data"
    }
   ],
   "source": [
    "colors=[\"yellow\",\"blue\",\"green\",\"orange\",\"aqua\",\"pink\"]\n",
    "# figure setting\n",
    "plt.figure(figsize=(8,6))\n",
    "for i in range(np.max(model.labels_)+1):\n",
    "    plt.scatter(x3[model.labels_==i].dst_host_serror_rate, x3[model.labels_==i].serror_rate, label=i, c=colors[i], alpha=0.5, s=40)\n",
    "plt.scatter(model.cluster_centers_[:,0], model.cluster_centers_[:,1], label='Centers', c=\"black\", s=100)\n",
    "plt.title(\"K-Means Clustering\",size=20)\n",
    "plt.xlabel(\"dst_host_serror_rate\")\n",
    "plt.ylabel(\"serror_rate\")\n",
    "plt.title('Scatter plot of dst_host_serror_rate vs. serror_rate')\n",
    "plt.legend()\n",
    "plt.show()"
   ]
  },
  {
   "cell_type": "markdown",
   "metadata": {
    "id": "jozMlheUgip0"
   },
   "source": [
    "Distance calculation"
   ]
  },
  {
   "cell_type": "code",
   "execution_count": null,
   "metadata": {
    "id": "jE1hhCLN19C1"
   },
   "outputs": [],
   "source": [
    "def distance_from_center(dst_host_serror_rate, serror_rate, label):\n",
    "    '''\n",
    "    Calculate the Euclidean distance between a data point and the center of its cluster.\n",
    ":param float dst_host_serror_rate: the standardized dst_host_serror_rate of the data point \n",
    "    :param float serror_rate: the standardized serror_rate of the data point \n",
    "    :param int label: the label of the cluster\n",
    "    :rtype: float\n",
    "    :return: The resulting Euclidean distance  \n",
    "    '''\n",
    "    center_dst_host_serror_rate =  model.cluster_centers_[label,0]\n",
    "    center_serror_rate =  model.cluster_centers_[label,1]\n",
    "    distance = np.sqrt((dst_host_serror_rate - center_dst_host_serror_rate) ** 2 + (serror_rate - center_serror_rate) ** 2)\n",
    "    return np.round(distance, 3)\n",
    "x3['label'] = model.labels_\n",
    "x3['distance'] = distance_from_center(x3.dst_host_serror_rate, x3.serror_rate, x3.label)"
   ]
  },
  {
   "cell_type": "markdown",
   "metadata": {
    "id": "3xHEVUehgnHV"
   },
   "source": [
    "Defining Outliers"
   ]
  },
  {
   "cell_type": "code",
   "execution_count": null,
   "metadata": {
    "colab": {
     "base_uri": "https://localhost:8080/"
    },
    "id": "ARyWqEnR3S72",
    "outputId": "bb9427e6-ad1e-4648-98ca-d7b846032da7"
   },
   "outputs": [
    {
     "name": "stdout",
     "output_type": "stream",
     "text": [
      "     dst_host_serror_rate  serror_rate  label  distance\n",
      "178              0.259784    -0.637209      3     0.724\n",
      "230             -0.077459    -0.637209      1     0.554\n",
      "442             -0.437186     0.706715      4     0.501\n",
      "619              0.417165    -0.637209      3     0.567\n",
      "669              1.608759     0.863506      2     0.736\n",
      "791              1.428896    -0.637209      3     0.445\n",
      "842             -0.144908    -0.637209      1     0.487\n",
      "859              0.574545     0.796310      4     0.525\n",
      "863             -0.077459    -0.077241      5     0.523\n",
      "953              0.484614     0.482727      4     0.464\n"
     ]
    }
   ],
   "source": [
    "outliers_idx = list(x3.sort_values('distance', ascending=False).head(10).index)\n",
    "outliers = x3[x3.index.isin(outliers_idx)]\n",
    "print(outliers)"
   ]
  },
  {
   "cell_type": "markdown",
   "metadata": {
    "id": "3C-gOVjRgs2G"
   },
   "source": [
    "Cluster visualization along with Outliers"
   ]
  },
  {
   "cell_type": "code",
   "execution_count": null,
   "metadata": {
    "colab": {
     "base_uri": "https://localhost:8080/",
     "height": 410
    },
    "id": "RjZg2Zss4D87",
    "outputId": "75b32a95-bce6-479a-e22f-6c86400179ce",
    "scrolled": true
   },
   "outputs": [
    {
     "data": {
      "image/png": "[encoded data removed]",
      "text/plain": [
       "<Figure size 800x600 with 1 Axes>"
      ]
     },
     "metadata": {},
     "output_type": "display_data"
    }
   ],
   "source": [
    "# figure setting\n",
    "colors=[\"yellow\",\"blue\",\"green\",\"orange\",\"aqua\",\"pink\"]\n",
    "plt.figure(figsize=(8,6))\n",
    "for i in range(np.max(model.labels_)+1):\n",
    "    plt.scatter(x3[model.labels_==i].dst_host_serror_rate, x3[model.labels_==i].serror_rate, label=i, c=colors[i], alpha=0.5, s=40)\n",
    "plt.scatter(outliers.dst_host_serror_rate, outliers.serror_rate, c='red', s=100)\n",
    "plt.scatter(model.cluster_centers_[:,0], model.cluster_centers_[:,1], label='Centers', c=\"black\", s=100)\n",
    "plt.title(\"K-Means Clustering\",size=20)\n",
    "plt.xlabel(\"dst_host_serror_rate\")\n",
    "plt.ylabel(\"serror_rate\")\n",
    "#plt.title('Scatter plot')\n",
    "plt.legend()\n",
    "plt.show()"
   ]
  },
  {
   "cell_type": "code",
   "execution_count": null,
   "metadata": {
    "id": "G4pWkgFdyO5g",
    "outputId": "136e0167-010e-4a13-c897-6e74c1b16172"
   },
   "outputs": [
    {
     "name": "stderr",
     "output_type": "stream",
     "text": [
      "C:\\Users\\ANILA\\anaconda3\\lib\\site-packages\\sklearn\\cluster\\_kmeans.py:1036: UserWarning: KMeans is known to have a memory leak on Windows with MKL, when there are less chunks than available threads. You can avoid it by setting the environment variable OMP_NUM_THREADS=1.\n",
      "  warnings.warn(\n"
     ]
    },
    {
     "name": "stdout",
     "output_type": "stream",
     "text": [
      "For cluster = 1, SSE/WCSS is 1.0967803126523856\n",
      "For cluster = 2, SSE/WCSS is 0.44577431998309824\n",
      "For cluster = 3, SSE/WCSS is 0.1802083239530025\n",
      "For cluster = 4, SSE/WCSS is 0.030142993601546108\n",
      "For cluster = 5, SSE/WCSS is 0.008317772013349248\n",
      "For cluster = 6, SSE/WCSS is 0.0022746655522660024\n",
      "For cluster = 7, SSE/WCSS is 0.0015164437015106665\n",
      "For cluster = 8, SSE/WCSS is 0.0008424687230614785\n",
      "For cluster = 9, SSE/WCSS is 0.0005054812338368871\n"
     ]
    },
    {
     "data": {
      "image/png": "[encoded data removed]",
      "text/plain": [
       "<Figure size 640x480 with 1 Axes>"
      ]
     },
     "metadata": {},
     "output_type": "display_data"
    }
   ],
   "source": [
    "\n",
    "# ELBOW METHOD\n",
    "\n",
    "# How many clusters should we choose ? - Elbow Method\n",
    "# Select the elbow point for number of clusters\n",
    "data = pd.DataFrame({'x':x3[model.labels_==i].dst_host_serror_rate, 'y':x3[model.labels_==i].serror_rate})\n",
    "\n",
    "sse = {}\n",
    "\n",
    "for k in range(1,10): \n",
    "  kmeans = KMeans(n_clusters=k,max_iter=100).fit(data)\n",
    "  data['clusters'] = kmeans.labels_\n",
    "  sse[k] = kmeans.inertia_\n",
    "  print(\"For cluster = {}, SSE/WCSS is {}\".format(k, sse[k]))\n",
    "\n",
    "plt.figure()\n",
    "plt.plot(list(sse.keys()),list(sse.values()))\n",
    "plt.xlabel(\"Number of Cluster\")\n",
    "plt.ylabel(\"SSE / WCSS\")\n",
    "plt.title(\"ELBOW METHOD\")\n",
    "plt.show()\n"
   ]
  },
  {
   "cell_type": "code",
   "execution_count": null,
   "metadata": {
    "id": "rRW5-X-yyO5h"
   },
   "outputs": [],
   "source": [
    "from sklearn.metrics import silhouette_score"
   ]
  },
  {
   "cell_type": "code",
   "execution_count": null,
   "metadata": {
    "id": "smA7guJ3yO5i",
    "outputId": "7f3f9977-f5e4-498c-a553-39dc05b9b004"
   },
   "outputs": [
    {
     "name": "stdout",
     "output_type": "stream",
     "text": [
      "For cluster= 0, Silhouette Coefficient is 0.4694172072736296\n",
      "For cluster= 1, Silhouette Coefficient is 0.4694172072736084\n",
      "For cluster= 2, Silhouette Coefficient is 0.4694172072736296\n",
      "For cluster= 3, Silhouette Coefficient is 0.4694172072736084\n",
      "For cluster= 4, Silhouette Coefficient is 0.4694172072736084\n",
      "For cluster= 5, Silhouette Coefficient is 0.4694172072736084\n",
      "For cluster= 6, Silhouette Coefficient is 0.4694172072736296\n",
      "For cluster= 7, Silhouette Coefficient is 0.4694172072736296\n",
      "For cluster= 8, Silhouette Coefficient is 0.4694172072736084\n",
      "For cluster= 9, Silhouette Coefficient is 0.4694172072736084\n",
      "\n",
      " It is same for every cluster, so choose from Elbow Method\n"
     ]
    }
   ],
   "source": [
    "# Silhouette Score\n",
    "\n",
    "data = pd.DataFrame({'x':x3[model.labels_==i].dst_host_serror_rate, 'y':x3[model.labels_==i].serror_rate})\n",
    "\n",
    "for n_clusters in range(0,10):\n",
    "  kmeans = KMeans(n_clusters=k,max_iter=100).fit(data)\n",
    "  label = kmeans.labels_\n",
    "  sil_coeff = silhouette_score(data,label,metric = 'euclidean')\n",
    "  print('For cluster= {}, Silhouette Coefficient is {}'.format(n_clusters,sil_coeff))\n",
    "\n",
    "print('\\n It is same for every cluster, so choose from Elbow Method')"
   ]
  }
 ],
 "metadata": {
  "colab": {
   "provenance": []
  },
  "kernelspec": {
   "display_name": "Python 3 (ipykernel)",
   "language": "python",
   "name": "python3"
  },
  "language_info": {
   "codemirror_mode": {
    "name": "ipython",
    "version": 3
   },
   "file_extension": ".py",
   "mimetype": "text/x-python",
   "name": "python",
   "nbconvert_exporter": "python",
   "pygments_lexer": "ipython3",
   "version": "3.9.12"
  }
 },
 "nbformat": 4,
 "nbformat_minor": 1
}
